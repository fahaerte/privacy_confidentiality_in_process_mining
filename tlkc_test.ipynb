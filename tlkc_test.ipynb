{
 "cells": [
  {
   "cell_type": "code",
   "execution_count": 3,
   "metadata": {},
   "outputs": [
    {
     "name": "stderr",
     "output_type": "stream",
     "text": [
      "c:\\Users\\haert\\AppData\\Local\\Programs\\Python\\Python310\\lib\\site-packages\\p_tlkc_privacy-0.0.14-py3.10.egg\\p_tlkc_privacy\\privacyPreserving.py:18: DeprecatedWarning: apply is deprecated as of 1.3.0 and will be removed in 2.0.0. Use importer entrypoint instead\n",
      "  self.log = xes_importer_factory.apply(log)\n",
      "c:\\Users\\haert\\AppData\\Local\\Programs\\Python\\Python310\\lib\\site-packages\\pm4py\\objects\\log\\importer\\xes\\factory.py:104: DeprecatedWarning: import_log is deprecated as of 1.3.0 and will be removed in 2.0.0. Use importer entrypoint instead\n",
      "  return import_log(path, parameters=parameters, variant=variant)\n",
      "c:\\Users\\haert\\AppData\\Local\\Programs\\Python\\Python310\\lib\\site-packages\\pm4py\\objects\\log\\importer\\xes\\factory.py:74: DeprecatedWarning: import_log is deprecated as of 1.3.0 and will be removed in 2.0.0. this file/method is deprecated, and replaced by iterparse in the variant package; use the importer entrypoint instead\n",
      "  return VERSIONS[variant](path, parameters=parameters)\n"
     ]
    },
    {
     "name": "stdout",
     "output_type": "stream",
     "text": [
      "l = 2 is running...\n",
      "l = 2 type = sequence is running...\n",
      "X1: 22578\n"
     ]
    }
   ],
   "source": [
    "from p_tlkc_privacy.privacyPreserving import privacyPreserving\n",
    "\n",
    "event_log = \"data/Sepsis.xes\"\n",
    "\n",
    "L = [2]\n",
    "C = [1]\n",
    "K = [1]\n",
    "K2 = [0.1]\n",
    "# sensitive = ['creator']\n",
    "sensitive = []\n",
    "T = [\"minutes\"]\n",
    "cont = []\n",
    "bk_type = \"sequence\" #set, multiset, sequence, relative\n",
    "\n",
    "privacy_aware_log_dir = \"xes_results\"\n",
    "privacy_aware_log_path = \"test.xes\"\n",
    "\n",
    "pp = privacyPreserving(event_log, \"example\")\n",
    "result = pp.apply(T, L, K, C, K2, sensitive, cont, bk_type, privacy_aware_log_dir, privacy_aware_log_path)\n",
    "\n",
    "print(result)"
   ]
  }
 ],
 "metadata": {
  "kernelspec": {
   "display_name": "Python 3",
   "language": "python",
   "name": "python3"
  },
  "language_info": {
   "codemirror_mode": {
    "name": "ipython",
    "version": 3
   },
   "file_extension": ".py",
   "mimetype": "text/x-python",
   "name": "python",
   "nbconvert_exporter": "python",
   "pygments_lexer": "ipython3",
   "version": "3.10.2"
  }
 },
 "nbformat": 4,
 "nbformat_minor": 2
}
