{
 "cells": [
  {
   "cell_type": "code",
   "execution_count": 9,
   "metadata": {},
   "outputs": [],
   "source": [
    "import os\n",
    "import pm4py"
   ]
  },
  {
   "cell_type": "code",
   "execution_count": 11,
   "metadata": {},
   "outputs": [
    {
     "data": {
      "application/vnd.jupyter.widget-view+json": {
       "model_id": "068bb786f52d4aaa890ebd13a3e48219",
       "version_major": 2,
       "version_minor": 0
      },
      "text/plain": [
       "parsing log, completed traces ::   0%|          | 0/80 [00:00<?, ?it/s]"
      ]
     },
     "metadata": {},
     "output_type": "display_data"
    },
    {
     "ename": "AttributeError",
     "evalue": "'EventLog' object has no attribute 'shape'",
     "output_type": "error",
     "traceback": [
      "\u001b[1;31m---------------------------------------------------------------------------\u001b[0m",
      "\u001b[1;31mAttributeError\u001b[0m                            Traceback (most recent call last)",
      "Cell \u001b[1;32mIn[11], line 7\u001b[0m\n\u001b[0;32m      5\u001b[0m     f_as_df \u001b[38;5;241m=\u001b[39m pm4py\u001b[38;5;241m.\u001b[39mread_xes(path \u001b[38;5;241m+\u001b[39m f)\n\u001b[0;32m      6\u001b[0m     parameters \u001b[38;5;241m=\u001b[39m f_as_df[\u001b[38;5;241m6\u001b[39m:\u001b[38;5;241m-\u001b[39m\u001b[38;5;241m3\u001b[39m]\n\u001b[1;32m----> 7\u001b[0m     f_as_dict[\u001b[38;5;124m'\u001b[39m\u001b[38;5;124mfile_len\u001b[39m\u001b[38;5;124m'\u001b[39m] \u001b[38;5;241m=\u001b[39m \u001b[43mf_as_df\u001b[49m\u001b[38;5;241;43m.\u001b[39;49m\u001b[43mshape\u001b[49m[\u001b[38;5;241m0\u001b[39m]\n\u001b[0;32m      9\u001b[0m \u001b[38;5;28mprint\u001b[39m(f_as_dict)\n",
      "\u001b[1;31mAttributeError\u001b[0m: 'EventLog' object has no attribute 'shape'"
     ]
    }
   ],
   "source": [
    "path = './Libra/output/'\n",
    "files = [f for f in os.listdir(path)]\n",
    "f_as_dict = {}\n",
    "for f in files:\n",
    "    f_as_df = pm4py.read_xes(path + f)\n",
    "    parameters = f_as_df[6:-3]\n",
    "    f_as_dict['file_len'] = f_as_df.shape[0]\n",
    "\n",
    "print(f_as_dict)\n"
   ]
  }
 ],
 "metadata": {
  "kernelspec": {
   "display_name": "Python 3",
   "language": "python",
   "name": "python3"
  },
  "language_info": {
   "codemirror_mode": {
    "name": "ipython",
    "version": 3
   },
   "file_extension": ".py",
   "mimetype": "text/x-python",
   "name": "python",
   "nbconvert_exporter": "python",
   "pygments_lexer": "ipython3",
   "version": "3.10.2"
  }
 },
 "nbformat": 4,
 "nbformat_minor": 2
}
