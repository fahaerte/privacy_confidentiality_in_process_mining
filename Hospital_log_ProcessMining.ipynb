{
 "cells": [
  {
   "cell_type": "code",
   "execution_count": null,
   "metadata": {},
   "outputs": [],
   "source": [
    "!pip install pm4py\n",
    "\n",
    "drive = True\n",
    "dir = './data/'\n",
    "if drive:\n",
    "  # Mount drive\n",
    "  from google.colab import drive\n",
    "  drive.mount('/content/drive', force_remount=True)\n",
    "\n",
    "  import sys\n",
    "  sys.path.insert(0,'/content/drive/My Drive/Masterthesis')\n",
    "\n",
    "  dir = '/content/drive/My Drive/Masterthesis/data'\n",
    "\n",
    "import pandas as pd\n",
    "import numpy as np\n",
    "import pm4py"
   ]
  },
  {
   "cell_type": "code",
   "execution_count": null,
   "metadata": {},
   "outputs": [],
   "source": [
    "def import_xes(file_path):\n",
    "    event_log = pm4py.read_xes(file_path)\n",
    "    event_log['time:timestamp'] = pd.to_datetime(event_log['time:timestamp'], utc=True)\n",
    "    return event_log\n",
    "\n",
    "event_log_original = import_xes(dir + '/Hospital_log.xes')\n",
    "\n",
    "# Read dfs from CSV-File\n",
    "event_log_modified = pd.read_csv(dir + 'event_log_modified.csv', index_col=0)\n",
    "event_log_case_specific = pd.read_csv(dir + 'event_log_case_specific.csv', index_col=0)"
   ]
  }
 ],
 "metadata": {
  "language_info": {
   "name": "python"
  }
 },
 "nbformat": 4,
 "nbformat_minor": 2
}
